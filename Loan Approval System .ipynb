{
 "cells": [
  {
   "cell_type": "markdown",
   "id": "89a06a0e-ff99-42cd-9fee-26ac90022a9e",
   "metadata": {},
   "source": [
    "# 1.Training Dataset:"
   ]
  },
  {
   "cell_type": "code",
   "execution_count": 1,
   "id": "123852c1",
   "metadata": {},
   "outputs": [],
   "source": [
    "import numpy as np\n",
    "import pandas as pd\n",
    "import matplotlib.pyplot as plt\n",
    "import seaborn as sns\n",
    "from sklearn import svm"
   ]
  },
  {
   "cell_type": "code",
   "execution_count": 8,
   "id": "f44edbe0",
   "metadata": {},
   "outputs": [],
   "source": [
    "df = pd.read_csv('loan-train.csv')"
   ]
  },
  {
   "cell_type": "code",
   "execution_count": 9,
   "id": "4133a9f2",
   "metadata": {},
   "outputs": [
    {
     "data": {
      "text/html": [
       "<div>\n",
       "<style scoped>\n",
       "    .dataframe tbody tr th:only-of-type {\n",
       "        vertical-align: middle;\n",
       "    }\n",
       "\n",
       "    .dataframe tbody tr th {\n",
       "        vertical-align: top;\n",
       "    }\n",
       "\n",
       "    .dataframe thead th {\n",
       "        text-align: right;\n",
       "    }\n",
       "</style>\n",
       "<table border=\"1\" class=\"dataframe\">\n",
       "  <thead>\n",
       "    <tr style=\"text-align: right;\">\n",
       "      <th></th>\n",
       "      <th>Loan_ID</th>\n",
       "      <th>Gender</th>\n",
       "      <th>Married</th>\n",
       "      <th>Dependents</th>\n",
       "      <th>Education</th>\n",
       "      <th>Self_Employed</th>\n",
       "      <th>ApplicantIncome</th>\n",
       "      <th>CoapplicantIncome</th>\n",
       "      <th>LoanAmount</th>\n",
       "      <th>Loan_Amount_Term</th>\n",
       "      <th>Credit_History</th>\n",
       "      <th>Property_Area</th>\n",
       "      <th>Loan_Status</th>\n",
       "    </tr>\n",
       "  </thead>\n",
       "  <tbody>\n",
       "    <tr>\n",
       "      <th>0</th>\n",
       "      <td>LP001002</td>\n",
       "      <td>Male</td>\n",
       "      <td>No</td>\n",
       "      <td>0</td>\n",
       "      <td>Graduate</td>\n",
       "      <td>No</td>\n",
       "      <td>5849</td>\n",
       "      <td>0.0</td>\n",
       "      <td>NaN</td>\n",
       "      <td>360.0</td>\n",
       "      <td>1.0</td>\n",
       "      <td>Urban</td>\n",
       "      <td>Y</td>\n",
       "    </tr>\n",
       "    <tr>\n",
       "      <th>1</th>\n",
       "      <td>LP001003</td>\n",
       "      <td>Male</td>\n",
       "      <td>Yes</td>\n",
       "      <td>1</td>\n",
       "      <td>Graduate</td>\n",
       "      <td>No</td>\n",
       "      <td>4583</td>\n",
       "      <td>1508.0</td>\n",
       "      <td>128.0</td>\n",
       "      <td>360.0</td>\n",
       "      <td>1.0</td>\n",
       "      <td>Rural</td>\n",
       "      <td>N</td>\n",
       "    </tr>\n",
       "    <tr>\n",
       "      <th>2</th>\n",
       "      <td>LP001005</td>\n",
       "      <td>Male</td>\n",
       "      <td>Yes</td>\n",
       "      <td>0</td>\n",
       "      <td>Graduate</td>\n",
       "      <td>Yes</td>\n",
       "      <td>3000</td>\n",
       "      <td>0.0</td>\n",
       "      <td>66.0</td>\n",
       "      <td>360.0</td>\n",
       "      <td>1.0</td>\n",
       "      <td>Urban</td>\n",
       "      <td>Y</td>\n",
       "    </tr>\n",
       "    <tr>\n",
       "      <th>3</th>\n",
       "      <td>LP001006</td>\n",
       "      <td>Male</td>\n",
       "      <td>Yes</td>\n",
       "      <td>0</td>\n",
       "      <td>Not Graduate</td>\n",
       "      <td>No</td>\n",
       "      <td>2583</td>\n",
       "      <td>2358.0</td>\n",
       "      <td>120.0</td>\n",
       "      <td>360.0</td>\n",
       "      <td>1.0</td>\n",
       "      <td>Urban</td>\n",
       "      <td>Y</td>\n",
       "    </tr>\n",
       "    <tr>\n",
       "      <th>4</th>\n",
       "      <td>LP001008</td>\n",
       "      <td>Male</td>\n",
       "      <td>No</td>\n",
       "      <td>0</td>\n",
       "      <td>Graduate</td>\n",
       "      <td>No</td>\n",
       "      <td>6000</td>\n",
       "      <td>0.0</td>\n",
       "      <td>141.0</td>\n",
       "      <td>360.0</td>\n",
       "      <td>1.0</td>\n",
       "      <td>Urban</td>\n",
       "      <td>Y</td>\n",
       "    </tr>\n",
       "  </tbody>\n",
       "</table>\n",
       "</div>"
      ],
      "text/plain": [
       "    Loan_ID Gender Married Dependents     Education Self_Employed  \\\n",
       "0  LP001002   Male      No          0      Graduate            No   \n",
       "1  LP001003   Male     Yes          1      Graduate            No   \n",
       "2  LP001005   Male     Yes          0      Graduate           Yes   \n",
       "3  LP001006   Male     Yes          0  Not Graduate            No   \n",
       "4  LP001008   Male      No          0      Graduate            No   \n",
       "\n",
       "   ApplicantIncome  CoapplicantIncome  LoanAmount  Loan_Amount_Term  \\\n",
       "0             5849                0.0         NaN             360.0   \n",
       "1             4583             1508.0       128.0             360.0   \n",
       "2             3000                0.0        66.0             360.0   \n",
       "3             2583             2358.0       120.0             360.0   \n",
       "4             6000                0.0       141.0             360.0   \n",
       "\n",
       "   Credit_History Property_Area Loan_Status  \n",
       "0             1.0         Urban           Y  \n",
       "1             1.0         Rural           N  \n",
       "2             1.0         Urban           Y  \n",
       "3             1.0         Urban           Y  \n",
       "4             1.0         Urban           Y  "
      ]
     },
     "execution_count": 9,
     "metadata": {},
     "output_type": "execute_result"
    }
   ],
   "source": [
    "df.head()"
   ]
  },
  {
   "cell_type": "code",
   "execution_count": 10,
   "id": "16b36660-92cd-4262-8df7-f53a1077dc42",
   "metadata": {},
   "outputs": [
    {
     "name": "stdout",
     "output_type": "stream",
     "text": [
      "<class 'pandas.core.frame.DataFrame'>\n",
      "RangeIndex: 614 entries, 0 to 613\n",
      "Data columns (total 13 columns):\n",
      " #   Column             Non-Null Count  Dtype  \n",
      "---  ------             --------------  -----  \n",
      " 0   Loan_ID            614 non-null    object \n",
      " 1   Gender             601 non-null    object \n",
      " 2   Married            611 non-null    object \n",
      " 3   Dependents         599 non-null    object \n",
      " 4   Education          614 non-null    object \n",
      " 5   Self_Employed      582 non-null    object \n",
      " 6   ApplicantIncome    614 non-null    int64  \n",
      " 7   CoapplicantIncome  614 non-null    float64\n",
      " 8   LoanAmount         592 non-null    float64\n",
      " 9   Loan_Amount_Term   600 non-null    float64\n",
      " 10  Credit_History     564 non-null    float64\n",
      " 11  Property_Area      614 non-null    object \n",
      " 12  Loan_Status        614 non-null    object \n",
      "dtypes: float64(4), int64(1), object(8)\n",
      "memory usage: 62.5+ KB\n"
     ]
    }
   ],
   "source": [
    "df.info()"
   ]
  },
  {
   "cell_type": "code",
   "execution_count": 11,
   "id": "867c1eaf-5b2f-48b3-81de-72e3f6049dd6",
   "metadata": {},
   "outputs": [
    {
     "data": {
      "text/plain": [
       "Loan_ID               0\n",
       "Gender               13\n",
       "Married               3\n",
       "Dependents           15\n",
       "Education             0\n",
       "Self_Employed        32\n",
       "ApplicantIncome       0\n",
       "CoapplicantIncome     0\n",
       "LoanAmount           22\n",
       "Loan_Amount_Term     14\n",
       "Credit_History       50\n",
       "Property_Area         0\n",
       "Loan_Status           0\n",
       "dtype: int64"
      ]
     },
     "execution_count": 11,
     "metadata": {},
     "output_type": "execute_result"
    }
   ],
   "source": [
    "df.isnull().sum()"
   ]
  },
  {
   "cell_type": "code",
   "execution_count": 12,
   "id": "b13e80fc-b289-44b5-8720-3d5d26828170",
   "metadata": {},
   "outputs": [
    {
     "data": {
      "text/plain": [
       "<Axes: >"
      ]
     },
     "execution_count": 12,
     "metadata": {},
     "output_type": "execute_result"
    },
    {
     "data": {
      "image/png": "[encoded data removed]",
      "text/plain": [
       "<Figure size 640x480 with 1 Axes>"
      ]
     },
     "metadata": {},
     "output_type": "display_data"
    }
   ],
   "source": [
    "df['loanAmount_log'] = np.log(df['LoanAmount'])\n",
    "df['loanAmount_log'].hist(bins=20)"
   ]
  },
  {
   "cell_type": "code",
   "execution_count": 13,
   "id": "440f51dd-c4d1-4e2a-bb0f-3ce0fe686c69",
   "metadata": {},
   "outputs": [
    {
     "data": {
      "text/plain": [
       "Loan_ID               0\n",
       "Gender               13\n",
       "Married               3\n",
       "Dependents           15\n",
       "Education             0\n",
       "Self_Employed        32\n",
       "ApplicantIncome       0\n",
       "CoapplicantIncome     0\n",
       "LoanAmount           22\n",
       "Loan_Amount_Term     14\n",
       "Credit_History       50\n",
       "Property_Area         0\n",
       "Loan_Status           0\n",
       "loanAmount_log       22\n",
       "dtype: int64"
      ]
     },
     "execution_count": 13,
     "metadata": {},
     "output_type": "execute_result"
    }
   ],
   "source": [
    "df.isnull().sum()"
   ]
  },
  {
   "cell_type": "code",
   "execution_count": 14,
   "id": "0419ac75-0329-4041-87a8-93555734d24e",
   "metadata": {},
   "outputs": [
    {
     "data": {
      "text/plain": [
       "<Axes: >"
      ]
     },
     "execution_count": 14,
     "metadata": {},
     "output_type": "execute_result"
    },
    {
     "data": {
      "image/png": "[encoded data removed]",
      "text/plain": [
       "<Figure size 640x480 with 1 Axes>"
      ]
     },
     "metadata": {},
     "output_type": "display_data"
    }
   ],
   "source": [
    "df['TotalIncome'] = df['ApplicantIncome']+df['CoapplicantIncome']\n",
    "df['TotalIncome_log'] = np.log(df['TotalIncome'])\n",
    "df['TotalIncome_log'].hist(bins=20)"
   ]
  },
  {
   "cell_type": "code",
   "execution_count": 22,
   "id": "962cea31-9761-4050-a5d1-2f7302f387ed",
   "metadata": {},
   "outputs": [
    {
     "data": {
      "text/plain": [
       "Loan_ID              0\n",
       "Gender               0\n",
       "Married              0\n",
       "Dependents           0\n",
       "Education            0\n",
       "Self_Employed        0\n",
       "ApplicantIncome      0\n",
       "CoapplicantIncome    0\n",
       "LoanAmount           0\n",
       "Loan_Amount_Term     0\n",
       "Credit_History       0\n",
       "Property_Area        0\n",
       "Loan_Status          0\n",
       "loanAmount_log       0\n",
       "TotalIncome          0\n",
       "TotalIncome_log      0\n",
       "dtype: int64"
      ]
     },
     "execution_count": 22,
     "metadata": {},
     "output_type": "execute_result"
    }
   ],
   "source": [
    "df['Gender'].fillna(df['Gender'].mode()[0], inplace = True)\n",
    "df['Married'].fillna(df['Married'].mode()[0], inplace = True)\n",
    "df['Self_Employed'].fillna(df['Self_Employed'].mode()[0], inplace = True)\n",
    "df['Dependents'].fillna(df['Dependents'].mode()[0], inplace = True)\n",
    "\n",
    "df.LoanAmount =df.LoanAmount.fillna(df.LoanAmount.mean())\n",
    "df.loanAmount_log =df.loanAmount_log.fillna(df.loanAmount_log.mean())\n",
    "\n",
    "df['Loan_Amount_Term'].fillna(df['Loan_Amount_Term'].mode()[0], inplace = True)\n",
    "df['Credit_History'].fillna(df['Credit_History'].mode()[0], inplace = True)\n",
    "\n",
    "df.isnull().sum()"
   ]
  },
  {
   "cell_type": "code",
   "execution_count": 37,
   "id": "f35b0698-a407-40c9-bd48-dd77bde392aa",
   "metadata": {},
   "outputs": [
    {
     "data": {
      "text/plain": [
       "array([['Male', 'Yes', '0', ..., 1.0, 5720, 8.651724084373843],\n",
       "       ['Male', 'Yes', '1', ..., 1.0, 4576, 8.428580533059634],\n",
       "       ['Male', 'Yes', '2', ..., 1.0, 6800, 8.824677891164198],\n",
       "       ...,\n",
       "       ['Male', 'No', '0', ..., 1.0, 5243, 8.564649132572534],\n",
       "       ['Male', 'Yes', '0', ..., 1.0, 7393, 8.9082888855571],\n",
       "       ['Male', 'No', '0', ..., 1.0, 9200, 9.126958763037132]],\n",
       "      dtype=object)"
      ]
     },
     "execution_count": 37,
     "metadata": {},
     "output_type": "execute_result"
    }
   ],
   "source": [
    "x = df.iloc[:,np.r_[1:5,9:11,13:15]].values\n",
    "y = df.iloc[:,12].values\n",
    "\n",
    "x"
   ]
  },
  {
   "cell_type": "code",
   "execution_count": 40,
   "id": "bcc15995-b81c-4438-aed0-f0dd023c780a",
   "metadata": {},
   "outputs": [
    {
     "data": {
      "text/plain": [
       "array([4.70048037, 4.83628191, 5.33753808, 4.60517019, 4.35670883,\n",
       "       5.02388052, 4.07753744, 4.99043259, 5.6347896 , 4.81218436,\n",
       "       4.49980967, 5.08759634, 3.68887945, 5.11198779, 4.82028157,\n",
       "       4.87519732, 5.29831737, 4.83628191, 5.70378247, 4.60517019,\n",
       "       3.87120101, 3.33220451, 4.61512052, 4.82831374, 5.66988092,\n",
       "       4.99721227, 4.94164242, 5.6167711 , 4.04305127, 4.82831374,\n",
       "       4.31748811, 5.25749537, 5.02388052, 5.06259503, 4.61512052,\n",
       "       5.170484  , 5.22035583, 4.49980967, 4.75359019, 4.92725369,\n",
       "       4.60517019, 4.70048037, 4.49980967, 5.29831737, 4.4308168 ,\n",
       "       5.22035583, 5.08759634, 4.68213123, 5.23110862, 5.23110862,\n",
       "       4.82028157, 4.78749174, 5.07517382, 3.40119738, 4.52178858,\n",
       "       4.86753445, 4.86753445, 4.8978398 , 5.170484  , 4.49980967,\n",
       "       4.70048037, 4.82831374, 5.24174702, 4.68213123, 4.82831374,\n",
       "       4.92725369, 4.90527478, 4.86753445, 5.23110862, 5.23644196,\n",
       "       4.55387689, 4.17438727, 4.93447393, 5.44673737, 4.9698133 ,\n",
       "       5.04342512, 5.22574667, 3.91202301, 4.82700095, 5.22035583,\n",
       "       5.0937502 , 5.88610403, 5.00394631, 5.54907608, 4.87519732,\n",
       "       4.62497281, 4.90527478, 4.55387689, 4.34380542, 5.29831737,\n",
       "       4.86753445, 5.96614674, 5.22035583, 4.60517019, 4.81218436,\n",
       "       4.70048037, 5.54517744, 4.94164242, 4.11087386, 5.23644196,\n",
       "       4.87519732, 4.82700095, 4.75359019, 3.91202301, 4.67282883,\n",
       "       5.29831737, 4.77912349, 4.78749174, 4.94164242, 5.10594547,\n",
       "       4.68213123, 4.53259949, 4.62497281, 4.80402104, 5.07517382,\n",
       "       5.05624581, 5.19295685, 4.38202663, 4.6443909 , 5.36129217,\n",
       "       4.17438727, 4.98360662, 4.90527478, 5.23110862, 5.70378247,\n",
       "       4.78749174, 4.26267988, 5.4161004 , 4.24849524, 4.24849524,\n",
       "       4.82028157, 4.88280192, 4.65396035, 4.49980967, 4.41884061,\n",
       "       4.82831374, 4.99043259, 4.78749174, 4.70048037, 4.63472899,\n",
       "       5.01063529, 4.60517019, 4.93447393, 6.30991828, 5.56068163,\n",
       "       5.01063529, 4.49980967, 5.29330482, 4.93447393, 5.01063529,\n",
       "       5.19295685, 4.72738782, 4.99721227, 4.76217393, 4.27666612,\n",
       "       4.82831374, 5.36597602, 4.89034913, 5.23110862, 4.96284463,\n",
       "       5.34233425, 4.4308168 , 4.75359019, 4.17438727, 4.38202663,\n",
       "       5.13579844, 4.78749174, 4.90527478, 4.54329478, 4.36944785,\n",
       "       4.70048037, 4.86753445, 4.96284463, 5.0689042 , 4.70048037,\n",
       "       5.07517382, 4.87519732, 4.17438727, 4.96284463, 5.23110862,\n",
       "       5.07517382, 5.10594547, 4.70048037, 5.15329159, 5.01063529,\n",
       "       4.90527478, 5.01063529, 5.45958551, 4.82700095, 5.81711116,\n",
       "       4.88280192, 4.56434819, 5.19295685, 4.85203026, 6.02102335,\n",
       "       4.75359019, 4.73619845, 4.74493213, 4.6443909 , 4.47733681,\n",
       "       4.68213123, 4.49980967, 4.60517019, 4.68213123, 4.35670883,\n",
       "       4.81218436, 5.23110862, 4.98360662, 4.38202663, 4.60517019,\n",
       "       4.00733319, 5.29831737, 5.01063529, 5.01063529, 4.77068462,\n",
       "       5.01063529, 4.77068462, 5.35658627, 5.35658627, 4.82831374,\n",
       "       4.68213123, 5.00394631, 4.38202663, 5.02388052, 5.23110862,\n",
       "       4.30406509, 4.62497281, 4.60517019, 4.86753445, 4.82831374,\n",
       "       4.86753445, 4.92725369, 3.33220451, 4.52178858, 4.6443909 ,\n",
       "       5.170484  , 4.76217393, 4.62497281, 4.67282883, 4.18965474,\n",
       "       4.65396035, 4.65396035, 4.65396035, 4.82831374, 4.15888308,\n",
       "       5.01063529, 5.01063529, 4.82700095, 4.15888308, 3.68887945,\n",
       "       4.95582706, 4.24849524, 4.87519732, 4.78749174, 4.73619845,\n",
       "       4.81218436, 4.52178858, 5.07517382, 5.01727984, 4.39444915,\n",
       "       5.14166356, 4.70048037, 4.60517019, 5.45532112, 5.21493576,\n",
       "       4.92725369, 4.71849887, 4.76217393, 3.8918203 , 4.59511985,\n",
       "       4.59511985, 5.35658627, 5.48063892, 4.86753445, 4.54329478,\n",
       "       4.68213123, 4.9698133 , 4.70048037, 5.170484  , 5.22035583,\n",
       "       4.80402104, 4.83628191, 4.90527478, 4.80402104, 6.13122649,\n",
       "       5.69373214, 4.94164242, 4.66343909, 4.94875989, 4.82700095,\n",
       "       5.13579844, 4.97673374, 4.49980967, 4.47733681, 4.85203026,\n",
       "       4.4308168 , 4.68213123, 4.41884061, 4.76217393, 4.85203026,\n",
       "       4.31748811, 4.82831374, 5.17614973, 4.21950771, 4.56434819,\n",
       "       5.19295685, 5.20948615, 4.79579055, 5.08759634, 4.88280192,\n",
       "       4.99043259, 5.03043792, 4.6443909 , 5.00394631, 4.8978398 ,\n",
       "       5.10594547, 4.78749174, 4.20469262, 4.82831374, 4.78749174,\n",
       "       4.99721227, 5.19849703, 4.38202663, 3.68887945, 4.49980967,\n",
       "       4.55387689, 4.80402104, 5.01063529, 5.01063529, 4.6443909 ,\n",
       "       4.96284463, 5.70378247, 5.14166356, 4.72738782, 3.55534806,\n",
       "       3.8286414 , 4.97673374, 4.77912349, 4.46590812, 5.08759634,\n",
       "       4.80402104, 5.23110862, 4.39444915, 4.38202663, 5.170484  ,\n",
       "       5.56068163, 4.89034913, 4.24849524, 4.90527478, 4.91998093,\n",
       "       5.53733427, 4.66343909, 4.69134788, 4.78749174, 5.06259503,\n",
       "       5.28320373, 4.44265126, 4.09434456, 4.33073334, 5.02388052,\n",
       "       4.56434819, 4.59511985, 4.72738782, 4.74493213, 4.83628191,\n",
       "       5.06259503, 4.58496748])"
      ]
     },
     "execution_count": 40,
     "metadata": {},
     "output_type": "execute_result"
    }
   ],
   "source": [
    "y"
   ]
  },
  {
   "cell_type": "code",
   "execution_count": 43,
   "id": "f2b88b48-e325-447d-aa65-441e24369bb5",
   "metadata": {},
   "outputs": [
    {
     "name": "stdout",
     "output_type": "stream",
     "text": [
      "per of missing gender is 0.000000%\n"
     ]
    }
   ],
   "source": [
    "print(\"per of missing gender is %2f%%\" %((df['Gender'].isnull().sum()/df.shape[0])*100))"
   ]
  },
  {
   "cell_type": "code",
   "execution_count": 45,
   "id": "af7079df-b3c7-4b8f-9f17-86242839e02b",
   "metadata": {},
   "outputs": [
    {
     "name": "stdout",
     "output_type": "stream",
     "text": [
      "numbers of pepole who take loan as group by gender:\n",
      "Gender\n",
      "Male      297\n",
      "Female     70\n",
      "Name: count, dtype: int64\n"
     ]
    },
    {
     "data": {
      "text/plain": [
       "<Axes: xlabel='Gender', ylabel='count'>"
      ]
     },
     "execution_count": 45,
     "metadata": {},
     "output_type": "execute_result"
    },
    {
     "data": {
      "image/png": "[encoded data removed]",
      "text/plain": [
       "<Figure size 640x480 with 1 Axes>"
      ]
     },
     "metadata": {},
     "output_type": "display_data"
    }
   ],
   "source": [
    "print(\"numbers of pepole who take loan as group by gender:\")\n",
    "print(df['Gender'].value_counts())\n",
    "sns.countplot(x='Gender', data = df, palette ='Set1')"
   ]
  },
  {
   "cell_type": "code",
   "execution_count": 46,
   "id": "676649c5-49e7-4b74-a5bb-534cc1b9dfee",
   "metadata": {},
   "outputs": [
    {
     "name": "stdout",
     "output_type": "stream",
     "text": [
      "numbers of pepole who take loan as group by marital status:\n",
      "Married\n",
      "Yes    233\n",
      "No     134\n",
      "Name: count, dtype: int64\n"
     ]
    },
    {
     "data": {
      "text/plain": [
       "<Axes: xlabel='Married', ylabel='count'>"
      ]
     },
     "execution_count": 46,
     "metadata": {},
     "output_type": "execute_result"
    },
    {
     "data": {
      "image/png": "[encoded data removed]",
      "text/plain": [
       "<Figure size 640x480 with 1 Axes>"
      ]
     },
     "metadata": {},
     "output_type": "display_data"
    }
   ],
   "source": [
    "print(\"numbers of pepole who take loan as group by marital status:\")\n",
    "print(df['Married'].value_counts())\n",
    "sns.countplot(x='Married', data = df, palette ='Set1')"
   ]
  },
  {
   "cell_type": "code",
   "execution_count": 47,
   "id": "2d01e4d4-1288-4742-b035-cca862ea9838",
   "metadata": {},
   "outputs": [
    {
     "name": "stdout",
     "output_type": "stream",
     "text": [
      "numbers of pepole who take loan as group by dependents:\n",
      "Dependents\n",
      "0     210\n",
      "2      59\n",
      "1      58\n",
      "3+     40\n",
      "Name: count, dtype: int64\n"
     ]
    },
    {
     "data": {
      "text/plain": [
       "<Axes: xlabel='Dependents', ylabel='count'>"
      ]
     },
     "execution_count": 47,
     "metadata": {},
     "output_type": "execute_result"
    },
    {
     "data": {
      "image/png": "[encoded data removed]",
      "text/plain": [
       "<Figure size 640x480 with 1 Axes>"
      ]
     },
     "metadata": {},
     "output_type": "display_data"
    }
   ],
   "source": [
    "print(\"numbers of pepole who take loan as group by dependents:\")\n",
    "print(df['Dependents'].value_counts())\n",
    "sns.countplot(x='Dependents', data = df, palette ='Set1')"
   ]
  },
  {
   "cell_type": "code",
   "execution_count": 49,
   "id": "be6f8c56-46a1-49db-8b22-46c5bfd87454",
   "metadata": {},
   "outputs": [
    {
     "name": "stdout",
     "output_type": "stream",
     "text": [
      "numbers of pepole who take loan as group by self employed:\n",
      "Self_Employed\n",
      "No     330\n",
      "Yes     37\n",
      "Name: count, dtype: int64\n"
     ]
    },
    {
     "data": {
      "text/plain": [
       "<Axes: xlabel='Self_Employed', ylabel='count'>"
      ]
     },
     "execution_count": 49,
     "metadata": {},
     "output_type": "execute_result"
    },
    {
     "data": {
      "image/png": "[encoded data removed]",
      "text/plain": [
       "<Figure size 640x480 with 1 Axes>"
      ]
     },
     "metadata": {},
     "output_type": "display_data"
    }
   ],
   "source": [
    "print(\"numbers of pepole who take loan as group by self employed:\")\n",
    "print(df['Self_Employed'].value_counts())\n",
    "sns.countplot(x='Self_Employed', data = df, palette ='Set1')"
   ]
  },
  {
   "cell_type": "code",
   "execution_count": 51,
   "id": "2b394fed-db00-43ff-984c-e44909c4c0b8",
   "metadata": {},
   "outputs": [
    {
     "name": "stdout",
     "output_type": "stream",
     "text": [
      "numbers of pepole who take loan as group by LoanAmount:\n",
      "LoanAmount\n",
      "150.0    12\n",
      "125.0    11\n",
      "110.0    10\n",
      "100.0     9\n",
      "90.0      9\n",
      "         ..\n",
      "225.0     1\n",
      "71.0      1\n",
      "213.0     1\n",
      "157.0     1\n",
      "98.0      1\n",
      "Name: count, Length: 145, dtype: int64\n"
     ]
    },
    {
     "data": {
      "text/plain": [
       "<Axes: xlabel='LoanAmount', ylabel='count'>"
      ]
     },
     "execution_count": 51,
     "metadata": {},
     "output_type": "execute_result"
    },
    {
     "data": {
      "image/png": "[encoded data removed]",
      "text/plain": [
       "<Figure size 640x480 with 1 Axes>"
      ]
     },
     "metadata": {},
     "output_type": "display_data"
    }
   ],
   "source": [
    "print(\"numbers of pepole who take loan as group by LoanAmount:\")\n",
    "print(df['LoanAmount'].value_counts())\n",
    "sns.countplot(x='LoanAmount', data = df, palette ='Set1')"
   ]
  },
  {
   "cell_type": "code",
   "execution_count": 52,
   "id": "017fb2d0-fb04-473a-874e-72d021d7d4b5",
   "metadata": {},
   "outputs": [
    {
     "name": "stdout",
     "output_type": "stream",
     "text": [
      "numbers of pepole who take loan as group by Credit History  :\n",
      "Credit_History\n",
      "1.0    308\n",
      "0.0     59\n",
      "Name: count, dtype: int64\n"
     ]
    },
    {
     "data": {
      "text/plain": [
       "<Axes: xlabel='Credit_History', ylabel='count'>"
      ]
     },
     "execution_count": 52,
     "metadata": {},
     "output_type": "execute_result"
    },
    {
     "data": {
      "image/png": "[encoded data removed]",
      "text/plain": [
       "<Figure size 640x480 with 1 Axes>"
      ]
     },
     "metadata": {},
     "output_type": "display_data"
    }
   ],
   "source": [
    "print(\"numbers of pepole who take loan as group by Credit History  :\")\n",
    "print(df['Credit_History'].value_counts())\n",
    "sns.countplot(x='Credit_History', data = df, palette ='Set1')"
   ]
  },
  {
   "cell_type": "code",
   "execution_count": 54,
   "id": "fe3c74a5-4fe4-4907-960f-68fed22c66fd",
   "metadata": {},
   "outputs": [],
   "source": [
    "from sklearn.model_selection import train_test_split\n",
    "x_train, x_test, y_train, y_test =train_test_split(x, y, test_size = 0.2, random_state =0)\n",
    "\n",
    "from sklearn.preprocessing import LabelEncoder\n",
    "Labelencoder_x = LabelEncoder()"
   ]
  },
  {
   "cell_type": "code",
   "execution_count": 59,
   "id": "08c295bd-6d86-4b33-a661-1fe122bfb040",
   "metadata": {},
   "outputs": [],
   "source": [
    "for i in range(0,5):\n",
    "    x_train[:,i] = Labelencoder_x.fit_transform(x_train[:,i])\n",
    "    x_train[:,7] = Labelencoder_x.fit_transform(x_train[:,7])"
   ]
  },
  {
   "cell_type": "code",
   "execution_count": 60,
   "id": "663e4a2e-9b57-479a-8791-0e73cf675376",
   "metadata": {},
   "outputs": [
    {
     "data": {
      "text/plain": [
       "array([[0, 0, 0, ..., 0.0, 3601, 41],\n",
       "       [1, 1, 0, ..., 0.0, 5404, 148],\n",
       "       [1, 1, 2, ..., 1.0, 7500, 219],\n",
       "       ...,\n",
       "       [1, 1, 1, ..., 0.0, 4416, 88],\n",
       "       [1, 0, 0, ..., 1.0, 4258, 79],\n",
       "       [1, 1, 0, ..., 1.0, 5225, 139]], dtype=object)"
      ]
     },
     "execution_count": 60,
     "metadata": {},
     "output_type": "execute_result"
    }
   ],
   "source": [
    "x_train"
   ]
  },
  {
   "cell_type": "code",
   "execution_count": 62,
   "id": "31203fa3-cfb9-4893-9874-43313aa44664",
   "metadata": {},
   "outputs": [
    {
     "name": "stdout",
     "output_type": "stream",
     "text": [
      "[ 44  41  99  12  83  40   0 120  28 101  50 101  66  20  35  62  60  37\n",
      "  22  61  44  80  97  69  24   3  88 101  44  89  62 110  83  61  40 110\n",
      "   6  26  40 130   5 101  17  97  16 127  62  52 122  47  60  61  14  57\n",
      "  28 116  58  88 120  37  34  73  38  83  80  51  18  83  31  73  90  33\n",
      "  92 114  55  69  69  69  61  46  10  52  81 121  71  65 112  64  46  66\n",
      "  77  83  65  96  64  53  29  52  25   8  13  36  30  55  75 101 125  84\n",
      " 100  22  11  64  56  45  49 109  35  25 119 126  62  40 125  38  23  44\n",
      "  83  67  81 107  43  86  92  24  58  55  39  33  20 118  59  61  64  55\n",
      " 129  15  85  57 105  57  36  38  93  55  38  96  36   3  55 123  17   6\n",
      "   0  60  83  27  31  67  36  40 117  46  28  91  55 108  90  43 110  69\n",
      "  28 100  70  96  46  59  36  83  42  61 101  22 103  44  59 115  61 107\n",
      "  46  28  90   9  76  29  58  78  46  55  21 102 101  79 100  36  72 131\n",
      "  89  66  32  88  36  44  65  79  82   2 128  82  52 111  78  68  89  48\n",
      "  28 107  64  98  51   1  92  13  94   7  95  11  48  10  36 104  85 113\n",
      "  69  90  74  76 106 124  96  11 102   4  50  61  87  71  72  48  81  94\n",
      "  54  42  46  55  71  63  68  19  32  32  28  41  46 107  58  85  51  13\n",
      "   3  97  22  44  76]\n"
     ]
    }
   ],
   "source": [
    "Labelencoder_y = LabelEncoder()\n",
    "y_train = Labelencoder_y.fit_transform(y_train)\n",
    "\n",
    "print(y_train)"
   ]
  },
  {
   "cell_type": "code",
   "execution_count": 63,
   "id": "4b48c327-66bf-472b-9e66-205562f13b4f",
   "metadata": {},
   "outputs": [],
   "source": [
    "for i in range(0,5):\n",
    "    x_test[:,i] = Labelencoder_x.fit_transform(x_test[:,i])\n",
    "    x_test[:,7] = Labelencoder_x.fit_transform(x_test[:,7])"
   ]
  },
  {
   "cell_type": "code",
   "execution_count": 65,
   "id": "f0ed791c-5090-448d-a1b9-ae06069f3822",
   "metadata": {},
   "outputs": [
    {
     "name": "stdout",
     "output_type": "stream",
     "text": [
      "[[1 0 0 0 2 0.0 3356 10]\n",
      " [0 0 1 0 2 1.0 6433 57]\n",
      " [1 1 0 0 2 1.0 8160 68]\n",
      " [1 1 2 0 2 1.0 5613 47]\n",
      " [1 1 1 0 2 1.0 7466 62]\n",
      " [1 0 0 1 2 1.0 2868 6]\n",
      " [1 1 0 0 2 1.0 5474 43]\n",
      " [0 0 3 0 2 0.0 7638 65]\n",
      " [1 0 0 0 3 1.0 4333 25]\n",
      " [0 0 1 1 2 1.0 2226 0]\n",
      " [1 0 0 0 2 1.0 3125 7]\n",
      " [1 1 3 0 1 1.0 6088 54]\n",
      " [1 1 1 0 2 1.0 18840 73]\n",
      " [1 1 0 1 2 1.0 4887 34]\n",
      " [1 1 2 0 2 1.0 4120 20]\n",
      " [0 0 0 0 2 1.0 2362 2]\n",
      " [1 1 1 1 2 1.0 4357 26]\n",
      " [0 1 0 0 3 0.0 2262 1]\n",
      " [1 1 0 1 2 1.0 5668 49]\n",
      " [1 0 0 0 2 0.0 4727 32]\n",
      " [1 1 3 1 2 0.0 7322 61]\n",
      " [1 1 0 0 2 1.0 3342 9]\n",
      " [1 1 3 0 0 1.0 4720 31]\n",
      " [0 1 0 0 2 0.0 4241 22]\n",
      " [0 0 0 0 2 1.0 14987 72]\n",
      " [0 1 1 0 2 1.0 5304 40]\n",
      " [1 1 0 0 2 1.0 7666 66]\n",
      " [0 1 1 1 2 1.0 6338 56]\n",
      " [0 1 2 0 2 1.0 6318 55]\n",
      " [1 0 0 0 2 1.0 4083 18]\n",
      " [0 0 0 0 2 0.0 12500 71]\n",
      " [1 1 1 0 2 1.0 3901 15]\n",
      " [1 0 1 0 2 1.0 5667 48]\n",
      " [1 1 0 0 2 1.0 5059 38]\n",
      " [1 1 0 1 2 1.0 5293 39]\n",
      " [1 1 0 1 2 1.0 5587 46]\n",
      " [1 1 0 1 2 1.0 4136 21]\n",
      " [1 1 1 0 2 1.0 4860 33]\n",
      " [1 1 2 0 2 1.0 4115 19]\n",
      " [1 1 3 1 2 1.0 4490 29]\n",
      " [1 1 1 0 2 1.0 7560 64]\n",
      " [1 1 1 1 2 1.0 2695 4]\n",
      " [1 1 3 0 2 1.0 5384 41]\n",
      " [1 1 3 1 2 1.0 5411 42]\n",
      " [1 1 1 1 2 1.0 3508 11]\n",
      " [1 0 2 1 2 1.0 3816 12]\n",
      " [1 0 0 0 2 1.0 5708 50]\n",
      " [1 1 0 1 2 1.0 7473 63]\n",
      " [1 0 0 1 2 1.0 3844 13]\n",
      " [1 1 0 0 2 1.0 6500 58]\n",
      " [1 0 0 0 0 0.0 5862 52]\n",
      " [1 1 0 0 2 1.0 4332 24]\n",
      " [1 0 0 0 2 0.0 5005 36]\n",
      " [1 0 1 0 1 1.0 5550 44]\n",
      " [1 1 1 0 2 1.0 6864 60]\n",
      " [1 0 0 0 2 0.0 2750 5]\n",
      " [1 1 1 0 2 1.0 6577 59]\n",
      " [1 1 0 0 2 1.0 4258 23]\n",
      " [0 0 0 0 2 1.0 5058 37]\n",
      " [1 1 0 0 2 1.0 5556 45]\n",
      " [1 1 1 1 2 1.0 3218 8]\n",
      " [0 1 3 1 2 1.0 4079 17]\n",
      " [1 1 2 1 2 0.0 3881 14]\n",
      " [1 0 0 0 2 1.0 4452 28]\n",
      " [1 1 2 0 2 1.0 5741 51]\n",
      " [1 1 1 0 2 1.0 4700 30]\n",
      " [0 0 0 1 2 1.0 4402 27]\n",
      " [1 1 3 0 2 1.0 4910 35]\n",
      " [1 1 1 0 2 1.0 5886 53]\n",
      " [1 1 0 1 2 1.0 7895 67]\n",
      " [1 1 0 1 2 1.0 8333 69]\n",
      " [0 0 0 0 2 1.0 3958 16]\n",
      " [1 1 0 0 2 1.0 8921 70]\n",
      " [0 1 0 0 3 1.0 2666 3]]\n"
     ]
    }
   ],
   "source": [
    "print(x_test)"
   ]
  },
  {
   "cell_type": "code",
   "execution_count": 67,
   "id": "d9b8e06a-1f9d-41c9-b2c1-906008b4bcc6",
   "metadata": {},
   "outputs": [
    {
     "data": {
      "text/plain": [
       "array([22,  8, 47, 32, 24,  6, 27, 39,  4,  2,  3, 15, 51, 32, 26,  1, 26,\n",
       "       24, 36, 37, 31, 10, 11, 10, 44, 19, 49, 42, 23, 13, 52, 20, 28, 11,\n",
       "       12, 38, 18, 16, 46, 25, 49,  5, 37, 42,  0, 45, 37, 21, 16, 30, 40,\n",
       "       17, 43,  7, 47, 27, 41, 25, 50, 48, 23, 14, 35, 28, 37,  7, 27, 29,\n",
       "       25, 33, 34, 18, 41,  9], dtype=int64)"
      ]
     },
     "execution_count": 67,
     "metadata": {},
     "output_type": "execute_result"
    }
   ],
   "source": [
    "Labelencoder_y = LabelEncoder()\n",
    "\n",
    "y_test = Labelencoder_y.fit_transform(y_test)\n",
    "\n",
    "y_test"
   ]
  },
  {
   "cell_type": "code",
   "execution_count": 69,
   "id": "5a0b9944-8550-4eba-9e09-e4da8bf23b65",
   "metadata": {},
   "outputs": [],
   "source": [
    "from sklearn.preprocessing import StandardScaler\n",
    "\n",
    "ss = StandardScaler()\n",
    "x_train = ss.fit_transform(x_train)\n",
    "x_test = ss.fit_transform(x_test)"
   ]
  },
  {
   "cell_type": "code",
   "execution_count": 71,
   "id": "cf56a8c3-6a76-44ed-b0f9-6c95575c8577",
   "metadata": {},
   "outputs": [
    {
     "data": {
      "text/html": [
       "<style>#sk-container-id-1 {color: black;}#sk-container-id-1 pre{padding: 0;}#sk-container-id-1 div.sk-toggleable {background-color: white;}#sk-container-id-1 label.sk-toggleable__label {cursor: pointer;display: block;width: 100%;margin-bottom: 0;padding: 0.3em;box-sizing: border-box;text-align: center;}#sk-container-id-1 label.sk-toggleable__label-arrow:before {content: \"▸\";float: left;margin-right: 0.25em;color: #696969;}#sk-container-id-1 label.sk-toggleable__label-arrow:hover:before {color: black;}#sk-container-id-1 div.sk-estimator:hover label.sk-toggleable__label-arrow:before {color: black;}#sk-container-id-1 div.sk-toggleable__content {max-height: 0;max-width: 0;overflow: hidden;text-align: left;background-color: #f0f8ff;}#sk-container-id-1 div.sk-toggleable__content pre {margin: 0.2em;color: black;border-radius: 0.25em;background-color: #f0f8ff;}#sk-container-id-1 input.sk-toggleable__control:checked~div.sk-toggleable__content {max-height: 200px;max-width: 100%;overflow: auto;}#sk-container-id-1 input.sk-toggleable__control:checked~label.sk-toggleable__label-arrow:before {content: \"▾\";}#sk-container-id-1 div.sk-estimator input.sk-toggleable__control:checked~label.sk-toggleable__label {background-color: #d4ebff;}#sk-container-id-1 div.sk-label input.sk-toggleable__control:checked~label.sk-toggleable__label {background-color: #d4ebff;}#sk-container-id-1 input.sk-hidden--visually {border: 0;clip: rect(1px 1px 1px 1px);clip: rect(1px, 1px, 1px, 1px);height: 1px;margin: -1px;overflow: hidden;padding: 0;position: absolute;width: 1px;}#sk-container-id-1 div.sk-estimator {font-family: monospace;background-color: #f0f8ff;border: 1px dotted black;border-radius: 0.25em;box-sizing: border-box;margin-bottom: 0.5em;}#sk-container-id-1 div.sk-estimator:hover {background-color: #d4ebff;}#sk-container-id-1 div.sk-parallel-item::after {content: \"\";width: 100%;border-bottom: 1px solid gray;flex-grow: 1;}#sk-container-id-1 div.sk-label:hover label.sk-toggleable__label {background-color: #d4ebff;}#sk-container-id-1 div.sk-serial::before {content: \"\";position: absolute;border-left: 1px solid gray;box-sizing: border-box;top: 0;bottom: 0;left: 50%;z-index: 0;}#sk-container-id-1 div.sk-serial {display: flex;flex-direction: column;align-items: center;background-color: white;padding-right: 0.2em;padding-left: 0.2em;position: relative;}#sk-container-id-1 div.sk-item {position: relative;z-index: 1;}#sk-container-id-1 div.sk-parallel {display: flex;align-items: stretch;justify-content: center;background-color: white;position: relative;}#sk-container-id-1 div.sk-item::before, #sk-container-id-1 div.sk-parallel-item::before {content: \"\";position: absolute;border-left: 1px solid gray;box-sizing: border-box;top: 0;bottom: 0;left: 50%;z-index: -1;}#sk-container-id-1 div.sk-parallel-item {display: flex;flex-direction: column;z-index: 1;position: relative;background-color: white;}#sk-container-id-1 div.sk-parallel-item:first-child::after {align-self: flex-end;width: 50%;}#sk-container-id-1 div.sk-parallel-item:last-child::after {align-self: flex-start;width: 50%;}#sk-container-id-1 div.sk-parallel-item:only-child::after {width: 0;}#sk-container-id-1 div.sk-dashed-wrapped {border: 1px dashed gray;margin: 0 0.4em 0.5em 0.4em;box-sizing: border-box;padding-bottom: 0.4em;background-color: white;}#sk-container-id-1 div.sk-label label {font-family: monospace;font-weight: bold;display: inline-block;line-height: 1.2em;}#sk-container-id-1 div.sk-label-container {text-align: center;}#sk-container-id-1 div.sk-container {/* jupyter's `normalize.less` sets `[hidden] { display: none; }` but bootstrap.min.css set `[hidden] { display: none !important; }` so we also need the `!important` here to be able to override the default hidden behavior on the sphinx rendered scikit-learn.org. See: https://github.com/scikit-learn/scikit-learn/issues/21755 */display: inline-block !important;position: relative;}#sk-container-id-1 div.sk-text-repr-fallback {display: none;}</style><div id=\"sk-container-id-1\" class=\"sk-top-container\"><div class=\"sk-text-repr-fallback\"><pre>RandomForestClassifier()</pre><b>In a Jupyter environment, please rerun this cell to show the HTML representation or trust the notebook. <br />On GitHub, the HTML representation is unable to render, please try loading this page with nbviewer.org.</b></div><div class=\"sk-container\" hidden><div class=\"sk-item\"><div class=\"sk-estimator sk-toggleable\"><input class=\"sk-toggleable__control sk-hidden--visually\" id=\"sk-estimator-id-1\" type=\"checkbox\" checked><label for=\"sk-estimator-id-1\" class=\"sk-toggleable__label sk-toggleable__label-arrow\">RandomForestClassifier</label><div class=\"sk-toggleable__content\"><pre>RandomForestClassifier()</pre></div></div></div></div></div>"
      ],
      "text/plain": [
       "RandomForestClassifier()"
      ]
     },
     "execution_count": 71,
     "metadata": {},
     "output_type": "execute_result"
    }
   ],
   "source": [
    "from sklearn.ensemble import RandomForestClassifier\n",
    "\n",
    "rf_clf = RandomForestClassifier()\n",
    "rf_clf.fit(x_train, y_train)"
   ]
  },
  {
   "cell_type": "code",
   "execution_count": 72,
   "id": "c27562e0-52a0-463f-bde1-b89c73d7d402",
   "metadata": {},
   "outputs": [
    {
     "name": "stdout",
     "output_type": "stream",
     "text": [
      "accurecy of random forest clf is 0.013513513513513514\n"
     ]
    },
    {
     "data": {
      "text/plain": [
       "array([ 58,  29, 121,  78,  60,  28,  46, 101,  46,  10,  66,  68, 131,\n",
       "        90,  46,  11,  64,  31,  92,  14,  93,   2,   1,  40,  83,  46,\n",
       "       123,  52,  95,  35,  81,  90,   6,  94,  90,  92,  50,  40,  46,\n",
       "        55,  60,  18,  78,  48,  43,  28,  85,  60,  28,  89,  32,  30,\n",
       "        14,  61, 124,  96, 124,  30,  69,  45,  18,  52,  55,  55,  83,\n",
       "        55,  61,  55,  90,  60,  60,  32,  60,  11], dtype=int64)"
      ]
     },
     "execution_count": 72,
     "metadata": {},
     "output_type": "execute_result"
    }
   ],
   "source": [
    "from sklearn import metrics\n",
    "\n",
    "y_pred = rf_clf.predict(x_test)\n",
    "print(\"accurecy of random forest clf is\", metrics.accuracy_score(y_pred, y_test))\n",
    "\n",
    "y_pred"
   ]
  },
  {
   "cell_type": "code",
   "execution_count": 73,
   "id": "aef8369e-a48e-4f27-86ba-929ba8ea8a40",
   "metadata": {},
   "outputs": [
    {
     "data": {
      "text/html": [
       "<style>#sk-container-id-2 {color: black;}#sk-container-id-2 pre{padding: 0;}#sk-container-id-2 div.sk-toggleable {background-color: white;}#sk-container-id-2 label.sk-toggleable__label {cursor: pointer;display: block;width: 100%;margin-bottom: 0;padding: 0.3em;box-sizing: border-box;text-align: center;}#sk-container-id-2 label.sk-toggleable__label-arrow:before {content: \"▸\";float: left;margin-right: 0.25em;color: #696969;}#sk-container-id-2 label.sk-toggleable__label-arrow:hover:before {color: black;}#sk-container-id-2 div.sk-estimator:hover label.sk-toggleable__label-arrow:before {color: black;}#sk-container-id-2 div.sk-toggleable__content {max-height: 0;max-width: 0;overflow: hidden;text-align: left;background-color: #f0f8ff;}#sk-container-id-2 div.sk-toggleable__content pre {margin: 0.2em;color: black;border-radius: 0.25em;background-color: #f0f8ff;}#sk-container-id-2 input.sk-toggleable__control:checked~div.sk-toggleable__content {max-height: 200px;max-width: 100%;overflow: auto;}#sk-container-id-2 input.sk-toggleable__control:checked~label.sk-toggleable__label-arrow:before {content: \"▾\";}#sk-container-id-2 div.sk-estimator input.sk-toggleable__control:checked~label.sk-toggleable__label {background-color: #d4ebff;}#sk-container-id-2 div.sk-label input.sk-toggleable__control:checked~label.sk-toggleable__label {background-color: #d4ebff;}#sk-container-id-2 input.sk-hidden--visually {border: 0;clip: rect(1px 1px 1px 1px);clip: rect(1px, 1px, 1px, 1px);height: 1px;margin: -1px;overflow: hidden;padding: 0;position: absolute;width: 1px;}#sk-container-id-2 div.sk-estimator {font-family: monospace;background-color: #f0f8ff;border: 1px dotted black;border-radius: 0.25em;box-sizing: border-box;margin-bottom: 0.5em;}#sk-container-id-2 div.sk-estimator:hover {background-color: #d4ebff;}#sk-container-id-2 div.sk-parallel-item::after {content: \"\";width: 100%;border-bottom: 1px solid gray;flex-grow: 1;}#sk-container-id-2 div.sk-label:hover label.sk-toggleable__label {background-color: #d4ebff;}#sk-container-id-2 div.sk-serial::before {content: \"\";position: absolute;border-left: 1px solid gray;box-sizing: border-box;top: 0;bottom: 0;left: 50%;z-index: 0;}#sk-container-id-2 div.sk-serial {display: flex;flex-direction: column;align-items: center;background-color: white;padding-right: 0.2em;padding-left: 0.2em;position: relative;}#sk-container-id-2 div.sk-item {position: relative;z-index: 1;}#sk-container-id-2 div.sk-parallel {display: flex;align-items: stretch;justify-content: center;background-color: white;position: relative;}#sk-container-id-2 div.sk-item::before, #sk-container-id-2 div.sk-parallel-item::before {content: \"\";position: absolute;border-left: 1px solid gray;box-sizing: border-box;top: 0;bottom: 0;left: 50%;z-index: -1;}#sk-container-id-2 div.sk-parallel-item {display: flex;flex-direction: column;z-index: 1;position: relative;background-color: white;}#sk-container-id-2 div.sk-parallel-item:first-child::after {align-self: flex-end;width: 50%;}#sk-container-id-2 div.sk-parallel-item:last-child::after {align-self: flex-start;width: 50%;}#sk-container-id-2 div.sk-parallel-item:only-child::after {width: 0;}#sk-container-id-2 div.sk-dashed-wrapped {border: 1px dashed gray;margin: 0 0.4em 0.5em 0.4em;box-sizing: border-box;padding-bottom: 0.4em;background-color: white;}#sk-container-id-2 div.sk-label label {font-family: monospace;font-weight: bold;display: inline-block;line-height: 1.2em;}#sk-container-id-2 div.sk-label-container {text-align: center;}#sk-container-id-2 div.sk-container {/* jupyter's `normalize.less` sets `[hidden] { display: none; }` but bootstrap.min.css set `[hidden] { display: none !important; }` so we also need the `!important` here to be able to override the default hidden behavior on the sphinx rendered scikit-learn.org. See: https://github.com/scikit-learn/scikit-learn/issues/21755 */display: inline-block !important;position: relative;}#sk-container-id-2 div.sk-text-repr-fallback {display: none;}</style><div id=\"sk-container-id-2\" class=\"sk-top-container\"><div class=\"sk-text-repr-fallback\"><pre>GaussianNB()</pre><b>In a Jupyter environment, please rerun this cell to show the HTML representation or trust the notebook. <br />On GitHub, the HTML representation is unable to render, please try loading this page with nbviewer.org.</b></div><div class=\"sk-container\" hidden><div class=\"sk-item\"><div class=\"sk-estimator sk-toggleable\"><input class=\"sk-toggleable__control sk-hidden--visually\" id=\"sk-estimator-id-2\" type=\"checkbox\" checked><label for=\"sk-estimator-id-2\" class=\"sk-toggleable__label sk-toggleable__label-arrow\">GaussianNB</label><div class=\"sk-toggleable__content\"><pre>GaussianNB()</pre></div></div></div></div></div>"
      ],
      "text/plain": [
       "GaussianNB()"
      ]
     },
     "execution_count": 73,
     "metadata": {},
     "output_type": "execute_result"
    }
   ],
   "source": [
    "# another classification method naive bayes\n",
    "from sklearn.naive_bayes import GaussianNB\n",
    "nb_clf =  GaussianNB()\n",
    "nb_clf.fit(x_train, y_train)"
   ]
  },
  {
   "cell_type": "code",
   "execution_count": 76,
   "id": "00c58469-bdc1-4757-8fdd-46fa06dbb726",
   "metadata": {},
   "outputs": [
    {
     "name": "stdout",
     "output_type": "stream",
     "text": [
      "accuracy of naive bayes is %. 0.0\n"
     ]
    }
   ],
   "source": [
    "y_pred = nb_clf.predict(x_test)\n",
    "print(\"accuracy of naive bayes is %.\", metrics.accuracy_score(y_pred, y_test))"
   ]
  },
  {
   "cell_type": "code",
   "execution_count": 75,
   "id": "f97e3228-5677-4d36-81b4-e9b1cfeadce7",
   "metadata": {},
   "outputs": [
    {
     "data": {
      "text/plain": [
       "array([61, 44, 83, 83, 83, 44, 83, 83, 46, 44, 44, 83, 83, 61, 22, 44, 61,\n",
       "       61, 83, 61, 83, 44, 22, 65, 83, 44, 83, 83, 83, 44, 83, 22, 44, 46,\n",
       "       61, 83, 61, 46, 22, 46, 83, 44, 83, 83, 22, 22, 44, 83, 61, 83, 65,\n",
       "       46, 61, 83, 83, 44, 83, 46, 44, 83, 44, 22, 22, 46, 83, 46, 44, 46,\n",
       "       83, 83, 83, 44, 83, 22], dtype=int64)"
      ]
     },
     "execution_count": 75,
     "metadata": {},
     "output_type": "execute_result"
    }
   ],
   "source": [
    "y_pred"
   ]
  },
  {
   "cell_type": "code",
   "execution_count": 77,
   "id": "5c481342-a953-45d9-98da-3c3fc12011e9",
   "metadata": {},
   "outputs": [
    {
     "data": {
      "text/html": [
       "<style>#sk-container-id-3 {color: black;}#sk-container-id-3 pre{padding: 0;}#sk-container-id-3 div.sk-toggleable {background-color: white;}#sk-container-id-3 label.sk-toggleable__label {cursor: pointer;display: block;width: 100%;margin-bottom: 0;padding: 0.3em;box-sizing: border-box;text-align: center;}#sk-container-id-3 label.sk-toggleable__label-arrow:before {content: \"▸\";float: left;margin-right: 0.25em;color: #696969;}#sk-container-id-3 label.sk-toggleable__label-arrow:hover:before {color: black;}#sk-container-id-3 div.sk-estimator:hover label.sk-toggleable__label-arrow:before {color: black;}#sk-container-id-3 div.sk-toggleable__content {max-height: 0;max-width: 0;overflow: hidden;text-align: left;background-color: #f0f8ff;}#sk-container-id-3 div.sk-toggleable__content pre {margin: 0.2em;color: black;border-radius: 0.25em;background-color: #f0f8ff;}#sk-container-id-3 input.sk-toggleable__control:checked~div.sk-toggleable__content {max-height: 200px;max-width: 100%;overflow: auto;}#sk-container-id-3 input.sk-toggleable__control:checked~label.sk-toggleable__label-arrow:before {content: \"▾\";}#sk-container-id-3 div.sk-estimator input.sk-toggleable__control:checked~label.sk-toggleable__label {background-color: #d4ebff;}#sk-container-id-3 div.sk-label input.sk-toggleable__control:checked~label.sk-toggleable__label {background-color: #d4ebff;}#sk-container-id-3 input.sk-hidden--visually {border: 0;clip: rect(1px 1px 1px 1px);clip: rect(1px, 1px, 1px, 1px);height: 1px;margin: -1px;overflow: hidden;padding: 0;position: absolute;width: 1px;}#sk-container-id-3 div.sk-estimator {font-family: monospace;background-color: #f0f8ff;border: 1px dotted black;border-radius: 0.25em;box-sizing: border-box;margin-bottom: 0.5em;}#sk-container-id-3 div.sk-estimator:hover {background-color: #d4ebff;}#sk-container-id-3 div.sk-parallel-item::after {content: \"\";width: 100%;border-bottom: 1px solid gray;flex-grow: 1;}#sk-container-id-3 div.sk-label:hover label.sk-toggleable__label {background-color: #d4ebff;}#sk-container-id-3 div.sk-serial::before {content: \"\";position: absolute;border-left: 1px solid gray;box-sizing: border-box;top: 0;bottom: 0;left: 50%;z-index: 0;}#sk-container-id-3 div.sk-serial {display: flex;flex-direction: column;align-items: center;background-color: white;padding-right: 0.2em;padding-left: 0.2em;position: relative;}#sk-container-id-3 div.sk-item {position: relative;z-index: 1;}#sk-container-id-3 div.sk-parallel {display: flex;align-items: stretch;justify-content: center;background-color: white;position: relative;}#sk-container-id-3 div.sk-item::before, #sk-container-id-3 div.sk-parallel-item::before {content: \"\";position: absolute;border-left: 1px solid gray;box-sizing: border-box;top: 0;bottom: 0;left: 50%;z-index: -1;}#sk-container-id-3 div.sk-parallel-item {display: flex;flex-direction: column;z-index: 1;position: relative;background-color: white;}#sk-container-id-3 div.sk-parallel-item:first-child::after {align-self: flex-end;width: 50%;}#sk-container-id-3 div.sk-parallel-item:last-child::after {align-self: flex-start;width: 50%;}#sk-container-id-3 div.sk-parallel-item:only-child::after {width: 0;}#sk-container-id-3 div.sk-dashed-wrapped {border: 1px dashed gray;margin: 0 0.4em 0.5em 0.4em;box-sizing: border-box;padding-bottom: 0.4em;background-color: white;}#sk-container-id-3 div.sk-label label {font-family: monospace;font-weight: bold;display: inline-block;line-height: 1.2em;}#sk-container-id-3 div.sk-label-container {text-align: center;}#sk-container-id-3 div.sk-container {/* jupyter's `normalize.less` sets `[hidden] { display: none; }` but bootstrap.min.css set `[hidden] { display: none !important; }` so we also need the `!important` here to be able to override the default hidden behavior on the sphinx rendered scikit-learn.org. See: https://github.com/scikit-learn/scikit-learn/issues/21755 */display: inline-block !important;position: relative;}#sk-container-id-3 div.sk-text-repr-fallback {display: none;}</style><div id=\"sk-container-id-3\" class=\"sk-top-container\"><div class=\"sk-text-repr-fallback\"><pre>DecisionTreeClassifier()</pre><b>In a Jupyter environment, please rerun this cell to show the HTML representation or trust the notebook. <br />On GitHub, the HTML representation is unable to render, please try loading this page with nbviewer.org.</b></div><div class=\"sk-container\" hidden><div class=\"sk-item\"><div class=\"sk-estimator sk-toggleable\"><input class=\"sk-toggleable__control sk-hidden--visually\" id=\"sk-estimator-id-3\" type=\"checkbox\" checked><label for=\"sk-estimator-id-3\" class=\"sk-toggleable__label sk-toggleable__label-arrow\">DecisionTreeClassifier</label><div class=\"sk-toggleable__content\"><pre>DecisionTreeClassifier()</pre></div></div></div></div></div>"
      ],
      "text/plain": [
       "DecisionTreeClassifier()"
      ]
     },
     "execution_count": 77,
     "metadata": {},
     "output_type": "execute_result"
    }
   ],
   "source": [
    "# another classification method DecisionTreeClassifier\n",
    "from sklearn.tree import DecisionTreeClassifier\n",
    "dt_clf = DecisionTreeClassifier()\n",
    "dt_clf.fit(x_train, y_train)"
   ]
  },
  {
   "cell_type": "code",
   "execution_count": 80,
   "id": "c5c362c2-53ce-4ef4-a35c-bbdf27f5cb8e",
   "metadata": {},
   "outputs": [
    {
     "name": "stdout",
     "output_type": "stream",
     "text": [
      "accuracy of decision tree is : 0.0\n"
     ]
    }
   ],
   "source": [
    "y_pred = dt_clf.predict(x_test)\n",
    "print(\"accuracy of decision tree is :\", metrics.accuracy_score(y_pred, y_test))"
   ]
  },
  {
   "cell_type": "code",
   "execution_count": 81,
   "id": "a63b5e47-5140-4646-856a-3b2c5e8d3ae8",
   "metadata": {},
   "outputs": [
    {
     "data": {
      "text/plain": [
       "array([ 25,  29, 121,  64, 124,  22,  46,  87,  59,  97,  32,  68, 131,\n",
       "        13,  90,  16,  82,   8,  77,  85,  83,  33,  36,  29,  83,  46,\n",
       "       123,  88,  88,  35,  81,  90,  36,  28,  90,  92,  10,  55,  90,\n",
       "        55, 124,  22,  90,  48,  22,  22,  77,  55,  24, 118,  68,  59,\n",
       "        32,  71, 112,  25, 112,  54,  62, 114,  22,  98,  56,  57,  97,\n",
       "        15,  44,  62,  88, 121,  60,  32, 129,  16], dtype=int64)"
      ]
     },
     "execution_count": 81,
     "metadata": {},
     "output_type": "execute_result"
    }
   ],
   "source": [
    "y_pred"
   ]
  },
  {
   "cell_type": "code",
   "execution_count": 84,
   "id": "33a259b1-e7f4-4db9-9d75-654cf5af93b2",
   "metadata": {},
   "outputs": [
    {
     "data": {
      "text/html": [
       "<style>#sk-container-id-4 {color: black;}#sk-container-id-4 pre{padding: 0;}#sk-container-id-4 div.sk-toggleable {background-color: white;}#sk-container-id-4 label.sk-toggleable__label {cursor: pointer;display: block;width: 100%;margin-bottom: 0;padding: 0.3em;box-sizing: border-box;text-align: center;}#sk-container-id-4 label.sk-toggleable__label-arrow:before {content: \"▸\";float: left;margin-right: 0.25em;color: #696969;}#sk-container-id-4 label.sk-toggleable__label-arrow:hover:before {color: black;}#sk-container-id-4 div.sk-estimator:hover label.sk-toggleable__label-arrow:before {color: black;}#sk-container-id-4 div.sk-toggleable__content {max-height: 0;max-width: 0;overflow: hidden;text-align: left;background-color: #f0f8ff;}#sk-container-id-4 div.sk-toggleable__content pre {margin: 0.2em;color: black;border-radius: 0.25em;background-color: #f0f8ff;}#sk-container-id-4 input.sk-toggleable__control:checked~div.sk-toggleable__content {max-height: 200px;max-width: 100%;overflow: auto;}#sk-container-id-4 input.sk-toggleable__control:checked~label.sk-toggleable__label-arrow:before {content: \"▾\";}#sk-container-id-4 div.sk-estimator input.sk-toggleable__control:checked~label.sk-toggleable__label {background-color: #d4ebff;}#sk-container-id-4 div.sk-label input.sk-toggleable__control:checked~label.sk-toggleable__label {background-color: #d4ebff;}#sk-container-id-4 input.sk-hidden--visually {border: 0;clip: rect(1px 1px 1px 1px);clip: rect(1px, 1px, 1px, 1px);height: 1px;margin: -1px;overflow: hidden;padding: 0;position: absolute;width: 1px;}#sk-container-id-4 div.sk-estimator {font-family: monospace;background-color: #f0f8ff;border: 1px dotted black;border-radius: 0.25em;box-sizing: border-box;margin-bottom: 0.5em;}#sk-container-id-4 div.sk-estimator:hover {background-color: #d4ebff;}#sk-container-id-4 div.sk-parallel-item::after {content: \"\";width: 100%;border-bottom: 1px solid gray;flex-grow: 1;}#sk-container-id-4 div.sk-label:hover label.sk-toggleable__label {background-color: #d4ebff;}#sk-container-id-4 div.sk-serial::before {content: \"\";position: absolute;border-left: 1px solid gray;box-sizing: border-box;top: 0;bottom: 0;left: 50%;z-index: 0;}#sk-container-id-4 div.sk-serial {display: flex;flex-direction: column;align-items: center;background-color: white;padding-right: 0.2em;padding-left: 0.2em;position: relative;}#sk-container-id-4 div.sk-item {position: relative;z-index: 1;}#sk-container-id-4 div.sk-parallel {display: flex;align-items: stretch;justify-content: center;background-color: white;position: relative;}#sk-container-id-4 div.sk-item::before, #sk-container-id-4 div.sk-parallel-item::before {content: \"\";position: absolute;border-left: 1px solid gray;box-sizing: border-box;top: 0;bottom: 0;left: 50%;z-index: -1;}#sk-container-id-4 div.sk-parallel-item {display: flex;flex-direction: column;z-index: 1;position: relative;background-color: white;}#sk-container-id-4 div.sk-parallel-item:first-child::after {align-self: flex-end;width: 50%;}#sk-container-id-4 div.sk-parallel-item:last-child::after {align-self: flex-start;width: 50%;}#sk-container-id-4 div.sk-parallel-item:only-child::after {width: 0;}#sk-container-id-4 div.sk-dashed-wrapped {border: 1px dashed gray;margin: 0 0.4em 0.5em 0.4em;box-sizing: border-box;padding-bottom: 0.4em;background-color: white;}#sk-container-id-4 div.sk-label label {font-family: monospace;font-weight: bold;display: inline-block;line-height: 1.2em;}#sk-container-id-4 div.sk-label-container {text-align: center;}#sk-container-id-4 div.sk-container {/* jupyter's `normalize.less` sets `[hidden] { display: none; }` but bootstrap.min.css set `[hidden] { display: none !important; }` so we also need the `!important` here to be able to override the default hidden behavior on the sphinx rendered scikit-learn.org. See: https://github.com/scikit-learn/scikit-learn/issues/21755 */display: inline-block !important;position: relative;}#sk-container-id-4 div.sk-text-repr-fallback {display: none;}</style><div id=\"sk-container-id-4\" class=\"sk-top-container\"><div class=\"sk-text-repr-fallback\"><pre>KNeighborsClassifier()</pre><b>In a Jupyter environment, please rerun this cell to show the HTML representation or trust the notebook. <br />On GitHub, the HTML representation is unable to render, please try loading this page with nbviewer.org.</b></div><div class=\"sk-container\" hidden><div class=\"sk-item\"><div class=\"sk-estimator sk-toggleable\"><input class=\"sk-toggleable__control sk-hidden--visually\" id=\"sk-estimator-id-4\" type=\"checkbox\" checked><label for=\"sk-estimator-id-4\" class=\"sk-toggleable__label sk-toggleable__label-arrow\">KNeighborsClassifier</label><div class=\"sk-toggleable__content\"><pre>KNeighborsClassifier()</pre></div></div></div></div></div>"
      ],
      "text/plain": [
       "KNeighborsClassifier()"
      ]
     },
     "execution_count": 84,
     "metadata": {},
     "output_type": "execute_result"
    }
   ],
   "source": [
    "from sklearn.neighbors import KNeighborsClassifier\n",
    "kn_clf = KNeighborsClassifier()\n",
    "kn_clf.fit(x_train, y_train)"
   ]
  },
  {
   "cell_type": "code",
   "execution_count": 85,
   "id": "9e9aa163-9559-486a-9424-ac3a33ff3b9b",
   "metadata": {},
   "outputs": [
    {
     "name": "stdout",
     "output_type": "stream",
     "text": [
      "accuracy of Kneighbors is  : 0.013513513513513514\n"
     ]
    }
   ],
   "source": [
    "y_pred = kn_clf.predict(x_test)\n",
    "print(\"accuracy of Kneighbors is  :\", metrics.accuracy_score(y_pred, y_test))"
   ]
  },
  {
   "cell_type": "code",
   "execution_count": null,
   "id": "842fa108-fd9b-4e04-96c2-2e541ae0a152",
   "metadata": {},
   "outputs": [],
   "source": []
  }
 ],
 "metadata": {
  "kernelspec": {
   "display_name": "python(myenv)",
   "language": "python",
   "name": "myenv"
  },
  "language_info": {
   "codemirror_mode": {
    "name": "ipython",
    "version": 3
   },
   "file_extension": ".py",
   "mimetype": "text/x-python",
   "name": "python",
   "nbconvert_exporter": "python",
   "pygments_lexer": "ipython3",
   "version": "3.8.18"
  }
 },
 "nbformat": 4,
 "nbformat_minor": 5
}
